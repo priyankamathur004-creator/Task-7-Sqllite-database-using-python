{
 "cells": [
  {
   "cell_type": "code",
   "execution_count": 1,
   "id": "272ea65d-b6e6-4895-a7e0-d7eae52ab909",
   "metadata": {},
   "outputs": [],
   "source": [
    "import sqlite3"
   ]
  },
  {
   "cell_type": "code",
   "execution_count": 2,
   "id": "02837096-f77a-4375-b009-a0bb2d45e831",
   "metadata": {},
   "outputs": [],
   "source": [
    "import pandas as pd\n",
    "import matplotlib.pyplot as plt"
   ]
  },
  {
   "cell_type": "code",
   "execution_count": 3,
   "id": "e85cc781-3d5e-4641-87d3-c852108076c6",
   "metadata": {},
   "outputs": [
    {
     "ename": "NameError",
     "evalue": "name 'DB_FILE' is not defined",
     "output_type": "error",
     "traceback": [
      "\u001b[31m---------------------------------------------------------------------------\u001b[39m",
      "\u001b[31mNameError\u001b[39m                                 Traceback (most recent call last)",
      "\u001b[36mCell\u001b[39m\u001b[36m \u001b[39m\u001b[32mIn[3]\u001b[39m\u001b[32m, line 1\u001b[39m\n\u001b[32m----> \u001b[39m\u001b[32m1\u001b[39m conn = sqlite3.connect(\u001b[43mDB_FILE\u001b[49m)\n\u001b[32m      2\u001b[39m cursor = conn.cursor()\n",
      "\u001b[31mNameError\u001b[39m: name 'DB_FILE' is not defined"
     ]
    }
   ],
   "source": [
    "conn = sqlite3.connect(\n",
    "cursor = conn.cursor()\n"
   ]
  },
  {
   "cell_type": "code",
   "execution_count": 4,
   "id": "8d73e16f-30ad-4022-b2b4-01c19373bcea",
   "metadata": {},
   "outputs": [
    {
     "ename": "NameError",
     "evalue": "name 'sales_data' is not defined",
     "output_type": "error",
     "traceback": [
      "\u001b[31m---------------------------------------------------------------------------\u001b[39m",
      "\u001b[31mNameError\u001b[39m                                 Traceback (most recent call last)",
      "\u001b[36mCell\u001b[39m\u001b[36m \u001b[39m\u001b[32mIn[4]\u001b[39m\u001b[32m, line 1\u001b[39m\n\u001b[32m----> \u001b[39m\u001b[32m1\u001b[39m conn = sqlite3.connect(\u001b[43msales_data\u001b[49m.db)\n",
      "\u001b[31mNameError\u001b[39m: name 'sales_data' is not defined"
     ]
    }
   ],
   "source": [
    "conn = sqlite3.connect(sales_data.db)"
   ]
  },
  {
   "cell_type": "code",
   "execution_count": 5,
   "id": "dc84383b-2b35-4df2-b7df-85144170d342",
   "metadata": {},
   "outputs": [
    {
     "ename": "NameError",
     "evalue": "name 'sales_data_db' is not defined",
     "output_type": "error",
     "traceback": [
      "\u001b[31m---------------------------------------------------------------------------\u001b[39m",
      "\u001b[31mNameError\u001b[39m                                 Traceback (most recent call last)",
      "\u001b[36mCell\u001b[39m\u001b[36m \u001b[39m\u001b[32mIn[5]\u001b[39m\u001b[32m, line 1\u001b[39m\n\u001b[32m----> \u001b[39m\u001b[32m1\u001b[39m conn = sqlite3.connect(\u001b[43msales_data_db\u001b[49m)\n",
      "\u001b[31mNameError\u001b[39m: name 'sales_data_db' is not defined"
     ]
    }
   ],
   "source": [
    "conn = sqlite3.connect(sales_data_db)"
   ]
  },
  {
   "cell_type": "code",
   "execution_count": 6,
   "id": "40f1f4e0-3d93-4d48-98e1-025d361fb34c",
   "metadata": {},
   "outputs": [],
   "source": [
    "DB_FILE = \"sales_data.db\""
   ]
  },
  {
   "cell_type": "code",
   "execution_count": 7,
   "id": "90609290-72ea-4d71-9d0a-23c73f0ed5ac",
   "metadata": {},
   "outputs": [],
   "source": [
    "conn = sqlite3.connect(DB_FILE)\n",
    "cursor = conn.cursor()\n"
   ]
  },
  {
   "cell_type": "code",
   "execution_count": 8,
   "id": "608465cb-7608-4238-962d-d17ce6485aa4",
   "metadata": {},
   "outputs": [
    {
     "data": {
      "text/plain": [
       "'\\nCREATE TABLE sales (\\n    order_id INTEGER PRIMARY KEY,\\n    product TEXT NOT NULL,\\n    quantity INTEGER NOT NULL,\\n    price REAL NOT NULL\\n);\\n'"
      ]
     },
     "execution_count": 8,
     "metadata": {},
     "output_type": "execute_result"
    }
   ],
   "source": [
    "# Create the sales table cursor.execute\n",
    "(\"\"\"\n",
    "CREATE TABLE sales (\n",
    "    order_id INTEGER PRIMARY KEY,\n",
    "    product TEXT NOT NULL,\n",
    "    quantity INTEGER NOT NULL,\n",
    "    price REAL NOT NULL\n",
    ");\n",
    "\"\"\")"
   ]
  },
  {
   "cell_type": "code",
   "execution_count": 9,
   "id": "ba7f3adb-6257-43b9-b8cf-30da3486681a",
   "metadata": {},
   "outputs": [
    {
     "ename": "OperationalError",
     "evalue": "no such table: sales",
     "output_type": "error",
     "traceback": [
      "\u001b[31m---------------------------------------------------------------------------\u001b[39m",
      "\u001b[31mOperationalError\u001b[39m                          Traceback (most recent call last)",
      "\u001b[36mCell\u001b[39m\u001b[36m \u001b[39m\u001b[32mIn[9]\u001b[39m\u001b[32m, line 12\u001b[39m\n\u001b[32m      1\u001b[39m \u001b[38;5;66;03m# c. Insert sample sales data (order_id, product, quantity, price)\u001b[39;00m\n\u001b[32m      2\u001b[39m sample_data = [\n\u001b[32m      3\u001b[39m     (\u001b[32m1\u001b[39m, \u001b[33m'\u001b[39m\u001b[33mMonitor\u001b[39m\u001b[33m'\u001b[39m, \u001b[32m2\u001b[39m, \u001b[32m350.00\u001b[39m),\n\u001b[32m      4\u001b[39m     (\u001b[32m2\u001b[39m, \u001b[33m'\u001b[39m\u001b[33mKeyboard\u001b[39m\u001b[33m'\u001b[39m, \u001b[32m5\u001b[39m, \u001b[32m75.00\u001b[39m),\n\u001b[32m   (...)\u001b[39m\u001b[32m      9\u001b[39m     (\u001b[32m7\u001b[39m, \u001b[33m'\u001b[39m\u001b[33mKeyboard\u001b[39m\u001b[33m'\u001b[39m, \u001b[32m2\u001b[39m, \u001b[32m75.00\u001b[39m)\n\u001b[32m     10\u001b[39m ]\n\u001b[32m---> \u001b[39m\u001b[32m12\u001b[39m \u001b[43mcursor\u001b[49m\u001b[43m.\u001b[49m\u001b[43mexecutemany\u001b[49m\u001b[43m(\u001b[49m\n\u001b[32m     13\u001b[39m \u001b[43m    \u001b[49m\u001b[33;43m\"\u001b[39;49m\u001b[33;43mINSERT INTO sales VALUES (?, ?, ?, ?)\u001b[39;49m\u001b[33;43m\"\u001b[39;49m\u001b[43m,\u001b[49m\n\u001b[32m     14\u001b[39m \u001b[43m    \u001b[49m\u001b[43msample_data\u001b[49m\n\u001b[32m     15\u001b[39m \u001b[43m)\u001b[49m\n",
      "\u001b[31mOperationalError\u001b[39m: no such table: sales"
     ]
    }
   ],
   "source": [
    "# c. Insert sample sales data (order_id, product, quantity, price)\n",
    "sample_data = [\n",
    "    (1, 'Monitor', 2, 350.00),\n",
    "    (2, 'Keyboard', 5, 75.00),\n",
    "    (3, 'Laptop', 1, 1200.00),\n",
    "    (4, 'Monitor', 3, 350.00), # Another Monitor sale\n",
    "    (5, 'Mouse', 10, 25.00),\n",
    "    (6, 'Laptop', 2, 1200.00), # Another Laptop sale\n",
    "    (7, 'Keyboard', 2, 75.00)\n",
    "]\n",
    "\n",
    "cursor.executemany(\n",
    "    \"INSERT INTO sales VALUES (?, ?, ?, ?)\",\n",
    "    sample_data\n",
    ")\n"
   ]
  },
  {
   "cell_type": "code",
   "execution_count": 10,
   "id": "7e80982a-4957-4052-97f4-7c8565164637",
   "metadata": {},
   "outputs": [],
   "source": [
    "import seaborn as sns"
   ]
  },
  {
   "cell_type": "code",
   "execution_count": 11,
   "id": "31f509a0-4d06-4f39-b925-42d23bf46679",
   "metadata": {},
   "outputs": [
    {
     "ename": "OperationalError",
     "evalue": "no such table: sales",
     "output_type": "error",
     "traceback": [
      "\u001b[31m---------------------------------------------------------------------------\u001b[39m",
      "\u001b[31mOperationalError\u001b[39m                          Traceback (most recent call last)",
      "\u001b[36mCell\u001b[39m\u001b[36m \u001b[39m\u001b[32mIn[11]\u001b[39m\u001b[32m, line 12\u001b[39m\n\u001b[32m      1\u001b[39m \u001b[38;5;66;03m# c. Insert sample sales data (order_id, product, quantity, price)\u001b[39;00m\n\u001b[32m      2\u001b[39m sample_data = [\n\u001b[32m      3\u001b[39m     (\u001b[32m1\u001b[39m, \u001b[33m'\u001b[39m\u001b[33mMonitor\u001b[39m\u001b[33m'\u001b[39m, \u001b[32m2\u001b[39m, \u001b[32m350.00\u001b[39m),\n\u001b[32m      4\u001b[39m     (\u001b[32m2\u001b[39m, \u001b[33m'\u001b[39m\u001b[33mKeyboard\u001b[39m\u001b[33m'\u001b[39m, \u001b[32m5\u001b[39m, \u001b[32m75.00\u001b[39m),\n\u001b[32m   (...)\u001b[39m\u001b[32m      9\u001b[39m     (\u001b[32m7\u001b[39m, \u001b[33m'\u001b[39m\u001b[33mKeyboard\u001b[39m\u001b[33m'\u001b[39m, \u001b[32m2\u001b[39m, \u001b[32m75.00\u001b[39m)\n\u001b[32m     10\u001b[39m ]\n\u001b[32m---> \u001b[39m\u001b[32m12\u001b[39m \u001b[43mcursor\u001b[49m\u001b[43m.\u001b[49m\u001b[43mexecutemany\u001b[49m\u001b[43m(\u001b[49m\n\u001b[32m     13\u001b[39m \u001b[43m    \u001b[49m\u001b[33;43m\"\u001b[39;49m\u001b[33;43mINSERT INTO sales VALUES (?, ?, ?, ?)\u001b[39;49m\u001b[33;43m\"\u001b[39;49m\u001b[43m,\u001b[49m\n\u001b[32m     14\u001b[39m \u001b[43m    \u001b[49m\u001b[43msample_data\u001b[49m\n\u001b[32m     15\u001b[39m \u001b[43m)\u001b[49m\n",
      "\u001b[31mOperationalError\u001b[39m: no such table: sales"
     ]
    }
   ],
   "source": [
    "# c. Insert sample sales data (order_id, product, quantity, price)\n",
    "sample_data = [\n",
    "    (1, 'Monitor', 2, 350.00),\n",
    "    (2, 'Keyboard', 5, 75.00),\n",
    "    (3, 'Laptop', 1, 1200.00),\n",
    "    (4, 'Monitor', 3, 350.00), # Another Monitor sale\n",
    "    (5, 'Mouse', 10, 25.00),\n",
    "    (6, 'Laptop', 2, 1200.00), # Another Laptop sale\n",
    "    (7, 'Keyboard', 2, 75.00)\n",
    "]\n",
    "\n",
    "cursor.executemany(\n",
    "    \"INSERT INTO sales VALUES (?, ?, ?, ?)\",\n",
    "    sample_data\n",
    ")"
   ]
  },
  {
   "cell_type": "code",
   "execution_count": 12,
   "id": "e6e0fa16-3a0b-4b4a-a3f4-3c60cdd8dd92",
   "metadata": {},
   "outputs": [],
   "source": [
    "import sqlite3"
   ]
  },
  {
   "cell_type": "code",
   "execution_count": 13,
   "id": "5c2574da-4636-4fea-83df-b3bf14d8aa68",
   "metadata": {},
   "outputs": [],
   "source": [
    "DB_FILE = \"sales_data.db\""
   ]
  },
  {
   "cell_type": "code",
   "execution_count": 14,
   "id": "fe5fafb0-c972-4250-bd9b-f49ddc2eda91",
   "metadata": {},
   "outputs": [],
   "source": [
    "conn = sqlite3.connect(DB_FILE)\n",
    "cursor = conn.cursor()"
   ]
  },
  {
   "cell_type": "code",
   "execution_count": 15,
   "id": "dda33273-381c-4832-bc82-47565312af8f",
   "metadata": {},
   "outputs": [
    {
     "data": {
      "text/plain": [
       "'\\nCREATE TABLE sales (\\n    order_id INTEGER PRIMARY KEY,\\n    product TEXT NOT NULL,\\n    quantity INTEGER NOT NULL,\\n    price REAL NOT NULL\\n);\\n'"
      ]
     },
     "execution_count": 15,
     "metadata": {},
     "output_type": "execute_result"
    }
   ],
   "source": [
    "\n"
   ]
  },
  {
   "cell_type": "code",
   "execution_count": 16,
   "id": "2ae0a197-55fd-485b-af6d-da8d7db7d328",
   "metadata": {},
   "outputs": [
    {
     "ename": "NameError",
     "evalue": "name 'Values' is not defined",
     "output_type": "error",
     "traceback": [
      "\u001b[31m---------------------------------------------------------------------------\u001b[39m",
      "\u001b[31mNameError\u001b[39m                                 Traceback (most recent call last)",
      "\u001b[36mCell\u001b[39m\u001b[36m \u001b[39m\u001b[32mIn[16]\u001b[39m\u001b[32m, line 2\u001b[39m\n\u001b[32m      1\u001b[39m \u001b[38;5;66;03m# Insert into sales (order_id, product, quantity, price)\u001b[39;00m\n\u001b[32m----> \u001b[39m\u001b[32m2\u001b[39m \u001b[43mValues\u001b[49m [(\u001b[32m1\u001b[39m, \u001b[33m'\u001b[39m\u001b[33mMonitor\u001b[39m\u001b[33m'\u001b[39m, \u001b[32m2\u001b[39m, \u001b[32m350.00\u001b[39m),\n\u001b[32m      3\u001b[39m     (\u001b[32m2\u001b[39m, \u001b[33m'\u001b[39m\u001b[33mKeyboard\u001b[39m\u001b[33m'\u001b[39m, \u001b[32m5\u001b[39m, \u001b[32m75.00\u001b[39m),\n\u001b[32m      4\u001b[39m     (\u001b[32m3\u001b[39m, \u001b[33m'\u001b[39m\u001b[33mLaptop\u001b[39m\u001b[33m'\u001b[39m, \u001b[32m1\u001b[39m, \u001b[32m1200.00\u001b[39m),\n\u001b[32m      5\u001b[39m     (\u001b[32m4\u001b[39m, \u001b[33m'\u001b[39m\u001b[33mMonitor\u001b[39m\u001b[33m'\u001b[39m, \u001b[32m3\u001b[39m, \u001b[32m350.00\u001b[39m),\n\u001b[32m      6\u001b[39m     (\u001b[32m5\u001b[39m, \u001b[33m'\u001b[39m\u001b[33mMouse\u001b[39m\u001b[33m'\u001b[39m, \u001b[32m10\u001b[39m, \u001b[32m25.00\u001b[39m),\n\u001b[32m      7\u001b[39m     (\u001b[32m6\u001b[39m, \u001b[33m'\u001b[39m\u001b[33mLaptop\u001b[39m\u001b[33m'\u001b[39m, \u001b[32m2\u001b[39m, \u001b[32m1200.00\u001b[39m), \n\u001b[32m      8\u001b[39m     (\u001b[32m7\u001b[39m, \u001b[33m'\u001b[39m\u001b[33mKeyboard\u001b[39m\u001b[33m'\u001b[39m, \u001b[32m2\u001b[39m, \u001b[32m75.00\u001b[39m)]\n",
      "\u001b[31mNameError\u001b[39m: name 'Values' is not defined"
     ]
    }
   ],
   "source": [
    "# Insert into sales (order_id, product, quantity, price)\n",
    "Values [(1, 'Monitor', 2, 350.00),\n",
    "    (2, 'Keyboard', 5, 75.00),\n",
    "    (3, 'Laptop', 1, 1200.00),\n",
    "    (4, 'Monitor', 3, 350.00),\n",
    "    (5, 'Mouse', 10, 25.00),\n",
    "    (6, 'Laptop', 2, 1200.00), \n",
    "    (7, 'Keyboard', 2, 75.00)]"
   ]
  },
  {
   "cell_type": "code",
   "execution_count": 17,
   "id": "ceef088e-152a-4ef8-9521-7faec88cc625",
   "metadata": {},
   "outputs": [
    {
     "ename": "OperationalError",
     "evalue": "no such table: sales",
     "output_type": "error",
     "traceback": [
      "\u001b[31m---------------------------------------------------------------------------\u001b[39m",
      "\u001b[31mOperationalError\u001b[39m                          Traceback (most recent call last)",
      "\u001b[36mCell\u001b[39m\u001b[36m \u001b[39m\u001b[32mIn[17]\u001b[39m\u001b[32m, line 12\u001b[39m\n\u001b[32m      2\u001b[39m values = [\n\u001b[32m      3\u001b[39m     (\u001b[32m1\u001b[39m, \u001b[33m'\u001b[39m\u001b[33mKeyboard\u001b[39m\u001b[33m'\u001b[39m, \u001b[32m3\u001b[39m, \u001b[32m150.00\u001b[39m),\n\u001b[32m      4\u001b[39m     (\u001b[32m2\u001b[39m, \u001b[33m'\u001b[39m\u001b[33mMouse\u001b[39m\u001b[33m'\u001b[39m, \u001b[32m5\u001b[39m, \u001b[32m250.00\u001b[39m),\n\u001b[32m   (...)\u001b[39m\u001b[32m      8\u001b[39m     (\u001b[32m6\u001b[39m, \u001b[33m'\u001b[39m\u001b[33mKeyboard\u001b[39m\u001b[33m'\u001b[39m, \u001b[32m3\u001b[39m, \u001b[32m250.00\u001b[39m)\n\u001b[32m      9\u001b[39m ]\n\u001b[32m     11\u001b[39m \u001b[38;5;66;03m# Insert into table\u001b[39;00m\n\u001b[32m---> \u001b[39m\u001b[32m12\u001b[39m \u001b[43mcursor\u001b[49m\u001b[43m.\u001b[49m\u001b[43mexecutemany\u001b[49m\u001b[43m(\u001b[49m\n\u001b[32m     13\u001b[39m \u001b[43m    \u001b[49m\u001b[33;43m\"\u001b[39;49m\u001b[33;43mINSERT INTO sales (order_id, product, quantity, price) VALUES (?, ?, ?, ?)\u001b[39;49m\u001b[33;43m\"\u001b[39;49m\u001b[43m,\u001b[49m\n\u001b[32m     14\u001b[39m \u001b[43m    \u001b[49m\u001b[43mvalues\u001b[49m\n\u001b[32m     15\u001b[39m \u001b[43m)\u001b[49m\n\u001b[32m     17\u001b[39m \u001b[38;5;66;03m# Commit the changes\u001b[39;00m\n\u001b[32m     18\u001b[39m conn.commit()\n",
      "\u001b[31mOperationalError\u001b[39m: no such table: sales"
     ]
    }
   ],
   "source": [
    "Define the data\n",
    "values = [\n",
    "    (1, 'Keyboard', 3, 150.00),\n",
    "    (2, 'Mouse', 5, 250.00),\n",
    "    (3, 'Monitor', 2, 3750.00),\n",
    "    (4, 'CPU', 1, 8250.00),\n",
    "    (5, 'Headset', 2, 1200.00),\n",
    "    (6, 'Keyboard', 3, 250.00)\n",
    "]\n",
    "\n",
    "# Insert into table# \n",
    "cursor.executemany(\n",
    "    \"INSERT INTO sales (order_id, product, quantity, price) VALUES (?, ?, ?, ?)\",\n",
    "    values\n",
    ")\n",
    "\n",
    "# Commit the changes\n",
    "conn.commit()\n"
   ]
  },
  {
   "cell_type": "code",
   "execution_count": 18,
   "id": "fd152374-bf61-47b1-9c5f-f14f5abb3248",
   "metadata": {},
   "outputs": [
    {
     "ename": "ModuleNotFoundError",
     "evalue": "No module named 'sqlite'",
     "output_type": "error",
     "traceback": [
      "\u001b[31m---------------------------------------------------------------------------\u001b[39m",
      "\u001b[31mModuleNotFoundError\u001b[39m                       Traceback (most recent call last)",
      "\u001b[36mCell\u001b[39m\u001b[36m \u001b[39m\u001b[32mIn[18]\u001b[39m\u001b[32m, line 1\u001b[39m\n\u001b[32m----> \u001b[39m\u001b[32m1\u001b[39m \u001b[38;5;28;01mimport\u001b[39;00m\u001b[38;5;250m \u001b[39m\u001b[34;01msqlite\u001b[39;00m\n",
      "\u001b[31mModuleNotFoundError\u001b[39m: No module named 'sqlite'"
     ]
    }
   ],
   "source": [
    "import sqlite"
   ]
  },
  {
   "cell_type": "code",
   "execution_count": 19,
   "id": "95321c9a-430a-4b4e-8dd6-e70cb530564d",
   "metadata": {},
   "outputs": [],
   "source": [
    "import sqlite3"
   ]
  },
  {
   "cell_type": "code",
   "execution_count": 20,
   "id": "35e69fc2-6a57-40dc-85a3-4b4c3df17337",
   "metadata": {},
   "outputs": [
    {
     "ename": "NameError",
     "evalue": "name 'sales_data' is not defined",
     "output_type": "error",
     "traceback": [
      "\u001b[31m---------------------------------------------------------------------------\u001b[39m",
      "\u001b[31mNameError\u001b[39m                                 Traceback (most recent call last)",
      "\u001b[36mCell\u001b[39m\u001b[36m \u001b[39m\u001b[32mIn[20]\u001b[39m\u001b[32m, line 1\u001b[39m\n\u001b[32m----> \u001b[39m\u001b[32m1\u001b[39m DB_FILE = \u001b[43msales_data\u001b[49m.db\n",
      "\u001b[31mNameError\u001b[39m: name 'sales_data' is not defined"
     ]
    }
   ],
   "source": [
    "DB_FILE = sales_data.db"
   ]
  },
  {
   "cell_type": "code",
   "execution_count": 21,
   "id": "3b32325b-0463-4e92-b7d7-3730c4a77cf7",
   "metadata": {},
   "outputs": [],
   "source": [
    "DB_FILE = \"sales_data.db\""
   ]
  },
  {
   "cell_type": "code",
   "execution_count": 22,
   "id": "625354d3-abc9-4ec1-8357-a7fa24d5b799",
   "metadata": {},
   "outputs": [],
   "source": [
    "conn = sqlite3.connect(DB_FILE)\n",
    "cursor = conn.cursor()"
   ]
  },
  {
   "cell_type": "code",
   "execution_count": 23,
   "id": "bc32294b-321f-485a-aca7-45f92e3d17bf",
   "metadata": {},
   "outputs": [
    {
     "data": {
      "text/plain": [
       "<sqlite3.Cursor at 0x24b1b182fc0>"
      ]
     },
     "execution_count": 23,
     "metadata": {},
     "output_type": "execute_result"
    }
   ],
   "source": [
    "cursor.execute(\"\"\"\n",
    "CREATE TABLE sales (\n",
    "    order_id INTEGER PRIMARY KEY,\n",
    "    product TEXT NOT NULL,\n",
    "    quantity INTEGER NOT NULL,\n",
    "    price REAL NOT NULL\n",
    ");\n",
    "\"\"\")"
   ]
  },
  {
   "cell_type": "code",
   "execution_count": 24,
   "id": "522d2da6-28dd-4d44-a41c-05161175668d",
   "metadata": {},
   "outputs": [
    {
     "ename": "SyntaxError",
     "evalue": "invalid syntax (966867138.py, line 1)",
     "output_type": "error",
     "traceback": [
      "  \u001b[36mCell\u001b[39m\u001b[36m \u001b[39m\u001b[32mIn[24]\u001b[39m\u001b[32m, line 1\u001b[39m\n\u001b[31m    \u001b[39m\u001b[31mDefine the data\u001b[39m\n           ^\n\u001b[31mSyntaxError\u001b[39m\u001b[31m:\u001b[39m invalid syntax\n"
     ]
    }
   ],
   "source": [
    "Define the data\n",
    "values = [\n",
    "    (1, 'Keyboard', 3, 150.00),\n",
    "    (2, 'Mouse', 5, 250.00),\n",
    "    (3, 'Monitor', 2, 3750.00),\n",
    "    (4, 'CPU', 1, 8250.00),\n",
    "    (5, 'Headset', 2, 1200.00),\n",
    "    (6, 'Keyboard', 3, 250.00)\n",
    "]\n",
    "\n",
    "# Insert into table# \n",
    "cursor.executemany(\n",
    "    \"INSERT INTO sales (order_id, product, quantity, price) VALUES (?, ?, ?, ?)\",\n",
    "    values\n",
    ")\n",
    "\n",
    "# Commit the changes\n",
    "conn.commit()"
   ]
  },
  {
   "cell_type": "code",
   "execution_count": 25,
   "id": "ef567bff-e860-46d5-8fe4-c3ffdc871cd0",
   "metadata": {},
   "outputs": [],
   "source": [
    "#Define the data\n",
    "values = [\n",
    "    (1, 'Keyboard', 3, 150.00),\n",
    "    (2, 'Mouse', 5, 250.00),\n",
    "    (3, 'Monitor', 2, 3750.00),\n",
    "    (4, 'CPU', 1, 8250.00),\n",
    "    (5, 'Headset', 2, 1200.00),\n",
    "    (6, 'Keyboard', 3, 250.00)\n",
    "]\n",
    "\n",
    "# Insert into table# \n",
    "cursor.executemany(\n",
    "    \"INSERT INTO sales (order_id, product, quantity, price) VALUES (?, ?, ?, ?)\",\n",
    "    values\n",
    ")\n",
    "\n",
    "# Commit the changes\n",
    "conn.commit()\n"
   ]
  },
  {
   "cell_type": "code",
   "execution_count": 26,
   "id": "774c3f95-14f1-4127-99c2-0899bfdd11b2",
   "metadata": {},
   "outputs": [],
   "source": [
    "# SQL Analysis (Get basic sales summary)\n",
    "analysis_query = \"\"\"\n",
    "SELECT\n",
    "   product,\n",
    "   SUM(quantity) AS total_quantity,\n",
    "   SUM(quantity * price) AS revenue\n",
    "FROM\n",
    "   sales\n",
    "GROUP BY\n",
    "   product\n",
    "ORDER BY\n",
    "   revenue DESC;\n",
    "   \"\"\"\n",
    "   "
   ]
  },
  {
   "cell_type": "code",
   "execution_count": 27,
   "id": "3454b053-fcb4-4020-9a8f-6ecb156b78bc",
   "metadata": {},
   "outputs": [],
   "source": [
    "df_sales_summary = pd.read_sql_query(analysis_query, conn)"
   ]
  },
  {
   "cell_type": "code",
   "execution_count": 28,
   "id": "1e729862-5a62-4833-ab98-0272624e1a58",
   "metadata": {},
   "outputs": [],
   "source": [
    "conn.close()"
   ]
  },
  {
   "cell_type": "code",
   "execution_count": 29,
   "id": "dd783690-8e3c-4aa5-bb74-79b36f9fca55",
   "metadata": {},
   "outputs": [
    {
     "name": "stdout",
     "output_type": "stream",
     "text": [
      "========================================\n"
     ]
    }
   ],
   "source": [
    "print('='*40)"
   ]
  },
  {
   "cell_type": "code",
   "execution_count": 30,
   "id": "de4f0d28-b946-4817-bd22-74c45bbbfa6f",
   "metadata": {},
   "outputs": [
    {
     "name": "stdout",
     "output_type": "stream",
     "text": [
      "========================================\n",
      "TASK 7: BASIC SALES SUMMARY\n",
      "========================================\n",
      "    product  total_quantity  revenue\n",
      "0       CPU               1   8250.0\n",
      "1   Monitor               2   7500.0\n",
      "2   Headset               2   2400.0\n",
      "3     Mouse               5   1250.0\n",
      "4  Keyboard               6   1200.0\n",
      "========================================\n"
     ]
    }
   ],
   "source": [
    "# a. Display output using a print statement\n",
    "print(\"=\"*40)\n",
    "print(\"TASK 7: BASIC SALES SUMMARY\")\n",
    "print(\"=\"*40)\n",
    "print(df_sales_summary)\n",
    "print(\"=\"*40)\n"
   ]
  },
  {
   "cell_type": "code",
   "execution_count": 31,
   "id": "98eb89dc-a465-41a1-8768-18fc3540bfb9",
   "metadata": {},
   "outputs": [
    {
     "data": {
      "image/png": "[encoded data removed]",
      "text/plain": [
       "<Figure size 640x480 with 1 Axes>"
      ]
     },
     "metadata": {},
     "output_type": "display_data"
    }
   ],
   "source": [
    "# Assuming 'df_sales_summary' is your DataFrame from the SQL query\n",
    "# It must have columns named 'product' and 'revenue'\n",
    "\n",
    "df_sales_summary.plot(\n",
    "    kind='bar', \n",
    "    x='product', \n",
    "    y='revenue', \n",
    "    legend=False, \n",
    "    color='teal'\n",
    ")\n",
    "\n",
    "plt.title('Total Revenue by Product')\n",
    "plt.xlabel('Product Name')\n",
    "plt.ylabel('Total Revenue ($)')\n",
    "plt.xticks(rotation=45, ha='right')\n",
    "plt.tight_layout()\n",
    "plt.show()"
   ]
  },
  {
   "cell_type": "code",
   "execution_count": null,
   "id": "50b3a6d0-ae3b-4eef-9a53-f1e077ffd5e2",
   "metadata": {},
   "outputs": [],
   "source": []
  }
 ],
 "metadata": {
  "kernelspec": {
   "display_name": "Python 3 (ipykernel)",
   "language": "python",
   "name": "python3"
  },
  "language_info": {
   "codemirror_mode": {
    "name": "ipython",
    "version": 3
   },
   "file_extension": ".py",
   "mimetype": "text/x-python",
   "name": "python",
   "nbconvert_exporter": "python",
   "pygments_lexer": "ipython3",
   "version": "3.13.7"
  }
 },
 "nbformat": 4,
 "nbformat_minor": 5
}
